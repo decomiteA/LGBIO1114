{
  "nbformat": 4,
  "nbformat_minor": 0,
  "metadata": {
    "colab": {
      "name": "Tutorial2_LGBIO1114.ipynb",
      "provenance": [],
      "collapsed_sections": [],
      "include_colab_link": true
    },
    "kernelspec": {
      "name": "python3",
      "display_name": "Python 3"
    }
  },
  "cells": [
    {
      "cell_type": "markdown",
      "metadata": {
        "id": "view-in-github",
        "colab_type": "text"
      },
      "source": [
        "<a href=\"https://colab.research.google.com/github/decomiteA/LGBIO1114/blob/Tutorials2-%26-3/Tutorial2_LGBIO1114.ipynb\" target=\"_parent\"><img src=\"https://colab.research.google.com/assets/colab-badge.svg\" alt=\"Open In Colab\"/></a>"
      ]
    },
    {
      "cell_type": "markdown",
      "metadata": {
        "id": "wvr8nSn9kkO3"
      },
      "source": [
        "##LGBIO1114 - Organes artificiels et réhabilitation\r\n",
        "\r\n",
        "__Auteur :__ Antoine De Comite\r\n",
        "\r\n",
        "__Contenu :__ A l'issue de cette séance vous devriez être capables de : \r\n",
        "\r\n",
        "\r\n",
        "*   Comprendre et interpréter les représentations temporelles et fréquentielles d'un signal donné\r\n",
        "*   Comprendre le concept de filtre digital\r\n",
        "*   Comprendre et expliquer l'impact d'un filtre sur un signal donné\r\n",
        "\r\n"
      ]
    },
    {
      "cell_type": "code",
      "metadata": {
        "id": "bf-aSS6giTio"
      },
      "source": [
        "#@title Librairies utiles \r\n",
        "\r\n",
        "import numpy as np\r\n",
        "import matplotlib.pyplot as plt\r\n",
        "import scipy as sc\r\n",
        "from scipy import signal"
      ],
      "execution_count": 1,
      "outputs": []
    },
    {
      "cell_type": "code",
      "metadata": {
        "id": "GDszMWMaIpix"
      },
      "source": [
        "#@title Création des signaux\r\n",
        "# Please execute this cell to launch the tutorial\r\n",
        "\r\n",
        "def createSignals():\r\n",
        "  #This function creates the signal for the second tutorial of LGBIO1114\r\n",
        "\r\n",
        "  np.random.seed(42)\r\n",
        "  amplitudes = np.random.uniform(low=0.5,high=4,size=(25,1))\r\n",
        "  frequencies = np.random.uniform(low=20,high=5000,size=(25,1))\r\n",
        "  phases = np.random.uniform(low=0,high=2*np.pi,size=(25,1))\r\n",
        "  time_vector = np.linspace(0,1,10000)\r\n",
        "  signal_vector = np.zeros_like(time_vector)\r\n",
        "  for ii in range(len(amplitudes)):\r\n",
        "    signal_vector = signal_vector + amplitudes[ii]*np.sin(2*np.pi*frequencies[ii]*time_vector*time_vector+phases[ii])\r\n",
        "  # Ex1\r\n",
        "\r\n",
        "  b1,a1 = sc.signal.butter(6,0.5,'lowpass')\r\n",
        "  signal_changed1 = signal_vector - 0.9* sc.signal.filtfilt(b1,a1,signal_vector)\r\n",
        "\r\n",
        "  # Ex2\r\n",
        "\r\n",
        "  b2,a2 = sc.signal.butter(10,(0.25, 0.75),'bandpass')\r\n",
        "  signal_changed2 = signal_vector - 0.95 * sc.signal.filtfilt(b2,a2,signal_vector)\r\n",
        "\r\n",
        "  \r\n",
        "\r\n",
        "  # Ex3 - Exercice où il faut un peu plus jouer avec l'ordre du filtre ;) \r\n",
        "\r\n",
        "  b3,a3 = sc.signal.butter(1,0.5,'lowpass')\r\n",
        "  signal_changed3 = signal_vector - 0.9 * sc.signal.filtfilt(b3,a3,signal_vector)\r\n",
        "  \r\n",
        "\r\n",
        "  S = np.vstack((time_vector,signal_vector,signal_changed1,signal_changed2,signal_changed3))\r\n",
        "\r\n",
        "  return S\r\n"
      ],
      "execution_count": 2,
      "outputs": []
    },
    {
      "cell_type": "markdown",
      "metadata": {
        "id": "4i6AId2em5qr"
      },
      "source": [
        "## Partie 0 - Introduction\r\n",
        "\r\n",
        "En appelant la fonction *CreateSignals* vous aurez accès à des signaux représentant un son tel qu'entendu par différents patients (lignes 3 ,4 et 5)\r\n",
        "que vous pouvez comparer au signal qu'il devrait entendre s'il n'avait pas de problèmes d'auditions (ligne 2). Le première ligne contient le vecteur temps commun à tous ces signaux.\r\n",
        "\r\n",
        "On vous demande, pour chacun des signaux de patient, d'identifier le soucis dont il souffre et de mettre en place une stratégie de traitement de signal lui permettant de récupérer une audition parfaite.\r\n"
      ]
    },
    {
      "cell_type": "markdown",
      "metadata": {
        "id": "uT6iZmFBnPsF"
      },
      "source": [
        "##Partie 1 - Identifier le problème\r\n",
        "\r\n",
        "Dans cette première partie, il vous est demandé d'identifier le soucis dont le patient souffre. Pour ce faire, vous avez accès au signal qu'il devrait entendre et celui qu'il entend. Comparer les signaux dans les domaines temporel et fréquentiel. Qu'observez-vous?\r\n",
        "\r\n",
        "\r\n",
        "\r\n",
        "*   Trouvez une méthode pour comparer ces deux signaux (*hint*: vous pouvez utiliser des opérations arithmétiques basiques). \r\n",
        "*   Une fois la méthode de comparaison trouvée, identifiez la ou les gammes de fréquences posant problème.\r\n",
        "\r\n"
      ]
    },
    {
      "cell_type": "code",
      "metadata": {
        "id": "PnDK33K4pIB4"
      },
      "source": [
        "######################\r\n",
        "### Votre code ici ###\r\n",
        "######################"
      ],
      "execution_count": null,
      "outputs": []
    },
    {
      "cell_type": "markdown",
      "metadata": {
        "id": "A3-TdUUGnTJd"
      },
      "source": [
        "## Partie 2 - Résoudre le problème\r\n",
        "\r\n",
        "Dans cette seconde partie, il vous est demandé de metter au point une stratégie de traitement de signal permettant de recouvrer une audition normale à partir des signaux entendus par les patients souffrant de surdité légère. Appliquez cela pour chacun des signaux fournis."
      ]
    },
    {
      "cell_type": "code",
      "metadata": {
        "id": "oBEc9K-cp3zj"
      },
      "source": [
        "######################\r\n",
        "### Votre code ici ###\r\n",
        "######################"
      ],
      "execution_count": null,
      "outputs": []
    }
  ]
}