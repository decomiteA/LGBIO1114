{
  "nbformat": 4,
  "nbformat_minor": 0,
  "metadata": {
    "colab": {
      "name": "Tutorial2_LGBIO1114.ipynb",
      "provenance": [],
      "collapsed_sections": [],
      "authorship_tag": "ABX9TyMUGSeyqowDt2Vl8Ouq1/Li",
      "include_colab_link": true
    },
    "kernelspec": {
      "name": "python3",
      "display_name": "Python 3"
    }
  },
  "cells": [
    {
      "cell_type": "markdown",
      "metadata": {
        "id": "view-in-github",
        "colab_type": "text"
      },
      "source": [
        "<a href=\"https://colab.research.google.com/github/decomiteA/LGBIO1114/blob/Tutorials2-%26-3/Tutorial2_LGBIO1114.ipynb\" target=\"_parent\"><img src=\"https://colab.research.google.com/assets/colab-badge.svg\" alt=\"Open In Colab\"/></a>"
      ]
    },
    {
      "cell_type": "markdown",
      "metadata": {
        "id": "wvr8nSn9kkO3"
      },
      "source": [
        "##LGBIO1114 - Organes artificiels et réhabilitation\r\n",
        "\r\n",
        "__Auteur :__ Antoine De Comite\r\n",
        "\r\n",
        "__Contenu :__ A l'issue de cette séance vous devriez être capables de : \r\n",
        "\r\n",
        "\r\n",
        "*   Comprendre et interpréter les représentations temporelles et fréquentielles d'un signal donné\r\n",
        "*   Comprendre le concept de filtre digital\r\n",
        "*   Comprendre et expliquer l'impact d'un filtre sur un signal donné\r\n",
        "\r\n"
      ]
    },
    {
      "cell_type": "code",
      "metadata": {
        "id": "bf-aSS6giTio"
      },
      "source": [
        "#Librairies utiles \r\n",
        "\r\n",
        "import numpy as np\r\n",
        "import matplotlib.pyplot as plt\r\n",
        "from scipy import signal"
      ],
      "execution_count": 3,
      "outputs": []
    },
    {
      "cell_type": "markdown",
      "metadata": {
        "id": "4i6AId2em5qr"
      },
      "source": [
        "**Mise en situation** + **ajouter la génération des données**"
      ]
    },
    {
      "cell_type": "markdown",
      "metadata": {
        "id": "uT6iZmFBnPsF"
      },
      "source": [
        "##Partie 1 - Identifier le problème\r\n",
        "\r\n",
        "Dans cette première partie, il vous est demandé d'identifier le soucis dont le patient souffre. Pour ce faire, vous avez accès au signal qu'il devrait entendre et celui qu'il entend. Comparer les signaux dans les domaines temporel et fréquentiel. Qu'observez-vous?\r\n",
        "\r\n",
        "\r\n",
        "\r\n",
        "*   Trouvez une méthode pour comparer ces deux signaux (hint: vous pouvez utiliser des opérations arithmétiques basiques). \r\n",
        "*   Une fois la méthode de comparaison trouvée, identifiez la ou les gammes de fréquences posant problème.\r\n",
        "\r\n"
      ]
    },
    {
      "cell_type": "code",
      "metadata": {
        "id": "PnDK33K4pIB4"
      },
      "source": [
        "######################\r\n",
        "### Votre code ici ###\r\n",
        "######################"
      ],
      "execution_count": null,
      "outputs": []
    },
    {
      "cell_type": "markdown",
      "metadata": {
        "id": "A3-TdUUGnTJd"
      },
      "source": [
        "## Partie 2 - Résoudre le problème\r\n",
        "\r\n",
        "Dans cette seconde partie, il vous est demandé de metter au point une stratégie de traitement de signal permettant de recouvrer une audition normale à partir des signaux entendus par les patients souffrant de surdité légère. Appliquez cela pour chacun des signaux fournis."
      ]
    },
    {
      "cell_type": "code",
      "metadata": {
        "id": "oBEc9K-cp3zj"
      },
      "source": [
        "######################\r\n",
        "### Votre code ici ###\r\n",
        "######################"
      ],
      "execution_count": null,
      "outputs": []
    }
  ]
}