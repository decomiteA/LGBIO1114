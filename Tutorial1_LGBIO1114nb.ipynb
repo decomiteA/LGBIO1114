{
  "nbformat": 4,
  "nbformat_minor": 0,
  "metadata": {
    "colab": {
      "name": "Tutorial1_LGBIO1114nb",
      "provenance": [],
      "collapsed_sections": [],
      "authorship_tag": "ABX9TyPIPtU5mX8bX+YpYrprgu12",
      "include_colab_link": true
    },
    "kernelspec": {
      "name": "python3",
      "display_name": "Python 3"
    }
  },
  "cells": [
    {
      "cell_type": "markdown",
      "metadata": {
        "id": "view-in-github",
        "colab_type": "text"
      },
      "source": [
        "<a href=\"https://colab.research.google.com/github/decomiteA/LGBIO1114/blob/Tutorial1/Tutorial1_LGBIO1114nb.ipynb\" target=\"_parent\"><img src=\"https://colab.research.google.com/assets/colab-badge.svg\" alt=\"Open In Colab\"/></a>"
      ]
    },
    {
      "cell_type": "markdown",
      "metadata": {
        "id": "38KF2IOGcFJb"
      },
      "source": [
        "# LGBIO1114 - Organes artificiels et réhabilitation \r\n",
        "## TP1 : Rappels théoriques et filtres \r\n",
        "\r\n",
        "__Auteur :__ Antoine De Comite\r\n",
        "\r\n",
        "__Contenu :__ A l'issue de cette séance vous devriez être capables de : \r\n",
        "\r\n",
        "\r\n",
        "*   Comprendre et interpréter les représentations temporelles et fréquentielles d'un signal donné\r\n",
        "*   Comprendre le concept de filtre digital\r\n",
        "*   Comprendre et expliquer l'impact d'un filtre sur un signal donné\r\n",
        "\r\n",
        "\r\n"
      ]
    },
    {
      "cell_type": "markdown",
      "metadata": {
        "id": "wvYOwzUJBYqr"
      },
      "source": [
        "# Partie 1 : Représentation des signaux\r\n",
        "**a) Représentation temporelle**\r\n",
        "\r\n",
        "La représentation la plus *classique* d'un signal est une représentation temporelle (i.e. on représente l'évolution de son intensité en fonction du temps). Ce type de représentation n'en est qu'une parmi tant d'autres et ne permet pas forcément d'appréhender correctement le contenu du signal...\r\n",
        "\r\n",
        "**Exercice 1** \r\n",
        "\r\n",
        "Extrayez le signal du fichier *csv* en utilisant la fonction **a compléter** et faites apparaître la représentation temporelle de ce même signal sur une figure en complétant le corps de la fonction suivante."
      ]
    },
    {
      "cell_type": "code",
      "metadata": {
        "id": "ozaHXJD8HAt7"
      },
      "source": [
        "def ReprTemporelle(input_signal):\r\n",
        "  # blabla\r\n",
        "\r\n",
        "\r\n",
        "# Extraction du signal temporel et appel de la fonction pour vérifier si tout est correct"
      ],
      "execution_count": null,
      "outputs": []
    },
    {
      "cell_type": "markdown",
      "metadata": {
        "id": "VeqfiMxdM1U5"
      },
      "source": [
        "**b) Représentation fréquentielle**\r\n",
        "\r\n",
        "Tout signal temporel peut également être représenté comme une somme infinie de sinus de fréquences et phases différentes. Cette représentation consiste à calculer la transformée de Fourier du signal et de reporter les coefficients des différents sinus contenus dans le signal. \r\n",
        "\r\n",
        "La représentation fréquentielle est utile pour tout signal qui subira des opérations fréquentielles (filtrage par exemple). \r\n",
        "\r\n",
        "**Exercice 2**\r\n",
        "\r\n",
        "Complétez la fonction ci-dessous afin de calculer la transformée de Fourier du signal donné en argument et de la représenter graphiquement."
      ]
    },
    {
      "cell_type": "code",
      "metadata": {
        "id": "a6vcisxHcAw_"
      },
      "source": [
        "def computeTF(input_signal):\r\n",
        "  # computes & represents the TF of the input signal\r\n",
        "\r\n",
        "\r\n",
        "#to complete"
      ],
      "execution_count": null,
      "outputs": []
    },
    {
      "cell_type": "markdown",
      "metadata": {
        "id": "xHVXULVTTJs7"
      },
      "source": [
        "## Partie 2 : Filtrage \r\n",
        "\r\n",
        "Le filtrage est un procédé qui permet de sélectionner tout ou une partie du spectre d'un signal afin de soit s'en débarasser soit ne garder que cette partie du spectre. Dans ces séances, nous allons rencontrer trois types de filtres : \r\n",
        "\r\n",
        "* Filtre passe-bas\r\n",
        "* Filtre passe-haut\r\n",
        "* Filtre passe-bande\r\n",
        "\r\n",
        "Pour chaque filtre, il est possible de calculer la réponse impulsionnelle et d'étudier ses caractéristiques fréquentielles. \r\n",
        "\r\n",
        "**Exercice 3 :**\r\n",
        "\r\n",
        "Complétez la fonction ci-dessous afin de calculer la réponse impulsionnelle d'un filtre caractérisé par les coefficients du numérateur et du dénominateur. \r\n",
        "** Il faudra peut être dans une premier temps leur demander de calculer les filtres, utilisation des fonctions butter & filter **"
      ]
    },
    {
      "cell_type": "code",
      "metadata": {
        "id": "7AQ7pRSNVUto"
      },
      "source": [
        "ajouter ici la fonction pour le filtrage ... "
      ],
      "execution_count": null,
      "outputs": []
    },
    {
      "cell_type": "markdown",
      "metadata": {
        "id": "F9-U5GvCVW-6"
      },
      "source": [
        "## Partie 3 : Application de filtres sur un signal\r\n",
        "\r\n",
        "Dans cette troisième partie, nous allons concilier signaux et filtres afin d'étudier l'impact des différents types de filtres sur un signal donné. Par facilité, nous allons travailler avec le signal dont nous avons calculé la transformée de Fourier en Partie 1.\r\n",
        "\r\n",
        "**Exercice 4 :*\r\n",
        "\r\n",
        "Appliquez les différents filtres définis à l'exercice 3 sur le signal d'entrée et étudier leur impact dans les domaines temporels et fréquentiels. Qu'observez-vous ? \r\n",
        "\r\n",
        "**Exercice 5 :**\r\n",
        "\r\n",
        "Comment pourriez-vous représenter l'effet d'un filtre de manière synthétique et le comparé à sa réponse impulsionnelle? Observez-vous des différences? Si oui justifiez."
      ]
    }
  ]
}