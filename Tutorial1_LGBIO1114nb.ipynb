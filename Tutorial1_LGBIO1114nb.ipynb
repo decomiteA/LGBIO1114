{
  "nbformat": 4,
  "nbformat_minor": 0,
  "metadata": {
    "colab": {
      "name": "Tutorial1_LGBIO1114nb",
      "provenance": [],
      "collapsed_sections": [],
      "authorship_tag": "ABX9TyP044GY4hPTZgGpMRorGaT9",
      "include_colab_link": true
    },
    "kernelspec": {
      "name": "python3",
      "display_name": "Python 3"
    }
  },
  "cells": [
    {
      "cell_type": "markdown",
      "metadata": {
        "id": "view-in-github",
        "colab_type": "text"
      },
      "source": [
        "<a href=\"https://colab.research.google.com/github/decomiteA/LGBIO1114/blob/main/Tutorial1_LGBIO1114nb.ipynb\" target=\"_parent\"><img src=\"https://colab.research.google.com/assets/colab-badge.svg\" alt=\"Open In Colab\"/></a>"
      ]
    },
    {
      "cell_type": "markdown",
      "metadata": {
        "id": "38KF2IOGcFJb"
      },
      "source": [
        "# LGBIO1114 - Organes artificiels et réhabilitation \r\n",
        "## TP1 : Rappels théoriques et filtres \r\n",
        "\r\n",
        "__Auteur :__ Antoine De Comite\r\n",
        "\r\n",
        "__Contenu :__ A l'issue de cette séance vous devriez être capables de : \r\n",
        "\r\n",
        "\r\n",
        "*   Comprendre et interpréter les représentations temporelles et fréquentielles d'un signal donné\r\n",
        "*   Comprendre le concept de filtre digital\r\n",
        "*   Comprendre et expliquer l'impact d'un filtre sur un signal donné\r\n",
        "\r\n",
        "\r\n"
      ]
    },
    {
      "cell_type": "code",
      "metadata": {
        "id": "OUYAYCgR6yFk"
      },
      "source": [
        "#Librairies utiles \r\n",
        "\r\n",
        "import numpy as np\r\n",
        "import matplotlib.pyplot as plt\r\n",
        "import scipy as sc\r\n",
        "from scipy import signal\r\n",
        "import ipywidgets as widgets\r\n",
        "%config InlineBackend.figure_format = 'retina'\r\n",
        "# use NMA plot style\r\n",
        "plt.style.use(\"https://raw.githubusercontent.com/NeuromatchAcademy/course-content/master/nma.mplstyle\")\r\n",
        "my_layout = widgets.Layout()"
      ],
      "execution_count": null,
      "outputs": []
    },
    {
      "cell_type": "code",
      "metadata": {
        "id": "sbbLH0bFk3ZD"
      },
      "source": [
        "#@title Data settings\n",
        "#  \n",
        "def load_dataset():\n",
        "  # Cette fonction crée le dataset avec lequel nous allons travailler dans cette \n",
        "  # séance d'exercices. \n",
        "  #\n",
        "  # Inputs : Aucun\n",
        "  #\n",
        "  # Outputs : S qui est une matrice 2xN qui contient sur la première ligne le vecteur temps\n",
        "  #           et sur la seconde ligne le vecteur des données \n",
        "  amplitudes = np.random.uniform(low=0.5,high=4,size=(25,1))\n",
        "  frequencies = np.random.uniform(low=20,high=5000,size=(25,1))\n",
        "  phases = np.random.uniform(low=0,high=2*np.pi,size=(25,1))\n",
        "  time_vector = np.linspace(0,1,10000)\n",
        "  signal_vector = np.zeros_like(time_vector)\n",
        "\n",
        "  for ii in range(len(amplitudes)):\n",
        "    signal_vector = signal_vector + amplitudes[ii]*np.sin(2*np.pi*frequencies[ii]*time_vector+phases[ii])\n",
        "  S = np.vstack((time_vector,signal_vector))\n",
        "  return S"
      ],
      "execution_count": null,
      "outputs": []
    },
    {
      "cell_type": "markdown",
      "metadata": {
        "id": "wvYOwzUJBYqr"
      },
      "source": [
        "# Partie 1 : Représentation des signaux\r\n",
        "**a) Représentation temporelle**\r\n",
        "\r\n",
        "La représentation la plus *classique* d'un signal est une représentation temporelle (i.e. on représente l'évolution de son intensité en fonction du temps). Ce type de représentation n'en est qu'une parmi tant d'autres et ne permet pas forcément d'appréhender correctement tout le contenu du signal...\r\n",
        "\r\n",
        "**Exercice 1a** \r\n",
        "\r\n",
        "En utilisant la fonction *load_dataset* qui vous est fournie, extrayez les données et préparez les pour en séparer le vecteur temps et l'intensité du signal."
      ]
    },
    {
      "cell_type": "code",
      "metadata": {
        "id": "ozaHXJD8HAt7"
      },
      "source": [
        "######################\r\n",
        "### Votre code ici ###\r\n",
        "######################\r\n",
        "\r\n",
        "\r\n",
        "\r\n"
      ],
      "execution_count": null,
      "outputs": []
    },
    {
      "cell_type": "markdown",
      "metadata": {
        "id": "rj2_rTMAMatk"
      },
      "source": [
        "Cliquez [ici](https://github.com/decomiteA/LGBIO1114/blob/main/Solutions/Sol1a) pour la solution"
      ]
    },
    {
      "cell_type": "markdown",
      "metadata": {
        "id": "qEDWyKzgBcb4"
      },
      "source": [
        "**Exercice 1b**\r\n",
        "\r\n",
        "Représentez le signal dans le domaine temporel, que pouvez-vous observer ?"
      ]
    },
    {
      "cell_type": "code",
      "metadata": {
        "id": "m4fHXR4fBxuQ"
      },
      "source": [
        "def RepresTemporelle(t_vector,input_signal):\r\n",
        "  # Le but de cette fonciton est de représenter un signal dans le domaine temporel\r\n",
        "  # Inputs : t_vector le vecteur temporel\r\n",
        "  #          input_signal le signal \r\n",
        "  #\r\n",
        "  # Outputs : Aucun\r\n",
        "  ######################\r\n",
        "  ### Votre code ici ###\r\n",
        "  ######################\r\n",
        "\r\n",
        " \r\n",
        "  \r\n",
        "  \r\n",
        "\r\n",
        "\r\n",
        "RepresTemporelle(t_vector,input_signal)  "
      ],
      "execution_count": null,
      "outputs": []
    },
    {
      "cell_type": "markdown",
      "metadata": {
        "id": "dfXC_qRoMrmd"
      },
      "source": [
        "Cliquez [ici](https://github.com/decomiteA/LGBIO1114/blob/main/Solutions/Sol1b) pour la solution"
      ]
    },
    {
      "cell_type": "markdown",
      "metadata": {
        "id": "Ev40Ubs8hXS0"
      },
      "source": [
        "<img alt='Solution hint' align='left' width=413 height=300 src=https://raw.githubusercontent.com/decomiteA/LGBIO1114/master/figure1.png>"
      ]
    },
    {
      "cell_type": "markdown",
      "metadata": {
        "id": "VeqfiMxdM1U5"
      },
      "source": [
        "**b) Représentation fréquentielle**\r\n",
        "\r\n",
        "Tout signal temporel peut également être représenté comme une somme infinie de sinus de fréquences et phases différentes. Cette représentation consiste à calculer la transformée de Fourier du signal et de reporter les coefficients des différents sinus contenus dans le signal. \r\n",
        "\r\n",
        "La représentation fréquentielle est utile pour tout signal qui subira des opérations fréquentielles (filtrage par exemple). \r\n",
        "\r\n",
        "**Exercice 2**\r\n",
        "\r\n",
        "Complétez la fonction ci-dessous afin de calculer la transformée de Fourier (TF) du signal donné en argument et de la représenter graphiquement.\r\n",
        "\r\n",
        "*Indice* : N'hésitez pas à consulter la documentation de la fonction [np.fft.fft](https://numpy.org/doc/stable/reference/generated/numpy.fft.fft.html) qui pourra vous être utile."
      ]
    },
    {
      "cell_type": "code",
      "metadata": {
        "id": "a6vcisxHcAw_"
      },
      "source": [
        "def computeTF(t_vector,input_signal):\r\n",
        "  # Le but de cette fonction est de calculer la transformée de Fourier d'un signal\r\n",
        "  # Inputs : t_vector le vecteur temporel\r\n",
        "  #          input_signal le signal d'entrée \r\n",
        "  #\r\n",
        "  # Outputs : tg_sig qui est le vecteur contenant la transformée de Fourier\r\n",
        "  #           f_vector qui est le vecteur caractérisant l'axe fréquentiel sur lequel la TF est calculée \r\n",
        "\r\n",
        "\r\n",
        "  ######################\r\n",
        "  ### Votre code ici ###\r\n",
        "  ######################\r\n",
        "\r\n",
        "  return tf_sig, f_vector\r\n",
        "  "
      ],
      "execution_count": null,
      "outputs": []
    },
    {
      "cell_type": "markdown",
      "metadata": {
        "id": "kmIRjvIUOMm2"
      },
      "source": [
        "Cliquez [ici](https://github.com/decomiteA/LGBIO1114/blob/main/Solutions/Sol1b) pour la solution"
      ]
    },
    {
      "cell_type": "code",
      "metadata": {
        "id": "Xq45wxWWFm1y"
      },
      "source": [
        "def RepresFreq(f_vecteur,tf_sig):\r\n",
        "  # Le but de cette fonction est de représenter la transformée de Fourier d'un signal\r\n",
        "  # Inputs : f_vector est le vecteur de fréquences\r\n",
        "  #          tf_sig est la transformée de fourier qu'on veut représenter\r\n",
        "  # Outputs : aucun\r\n",
        "  #\r\n",
        "\r\n",
        "  ######################\r\n",
        "  ### Votre code ici ###\r\n",
        "  ######################\r\n",
        "  \r\n",
        "  return\r\n",
        "\r\n",
        "\r\n",
        "######################\r\n",
        "### Votre code ici ###\r\n",
        "######################\r\n",
        "\r\n",
        "# Grace aux fonctions définies ci-dessus calculez et representez la transformee de Fourier du signal fourni.\r\n",
        "\r\n",
        "######################\r\n",
        "### Votre code ici ###\r\n",
        "######################"
      ],
      "execution_count": null,
      "outputs": []
    },
    {
      "cell_type": "markdown",
      "metadata": {
        "id": "V3HR0b8HOV4S"
      },
      "source": [
        "Cliquez [ici](https://github.com/decomiteA/LGBIO1114/blob/main/Solutions/Sol2b) pour la solution"
      ]
    },
    {
      "cell_type": "markdown",
      "metadata": {
        "id": "LKF9ymfxiplc"
      },
      "source": [
        "<img alt='Solution hint' align='left' width=413 height=300 src=https://raw.githubusercontent.com/decomiteA/LGBIO1114/master/figure2.png>"
      ]
    },
    {
      "cell_type": "markdown",
      "metadata": {
        "id": "xHVXULVTTJs7"
      },
      "source": [
        "## Partie 2 : Filtrage \r\n",
        "\r\n",
        "Le filtrage est un procédé qui permet de sélectionner tout ou une partie du spectre d'un signal afin de soit s'en débarasser soit ne garder que cette partie du spectre. Dans ces séances, nous allons rencontrer trois types de filtres : \r\n",
        "\r\n",
        "* Filtre passe-bas\r\n",
        "* Filtre passe-haut\r\n",
        "* Filtre passe-bande\r\n",
        "\r\n",
        "Pour chaque filtre, il est possible de calculer la réponse impulsionnelle et d'étudier ses caractéristiques fréquentielles. \r\n",
        "\r\n",
        "**Exercice 3a**\r\n",
        " \r\n",
        "Complétez la fonction ci-dessous afin de créer un filtre de butterworth, vous pouvez utiliser la fonction [*scipy.signal.butter*](https://docs.scipy.org/doc/scipy/reference/generated/scipy.signal.butter.html) pour ce faire. "
      ]
    },
    {
      "cell_type": "code",
      "metadata": {
        "id": "EwO0TvRks7gP"
      },
      "source": [
        "def CreateFilter(filter_order,filter_type,cutoff):\r\n",
        "  # Le but de cette fonction est de creer un filtre de butterworth\r\n",
        "  # Inputs : filter_order est l'ordre du filtre \r\n",
        "  #          filter_type est le type de filtre a creer\r\n",
        "  #          cutoff contient la/les fréquences de coupûres\r\n",
        "  # Outputs : b le numerateur de la fonction de transfert du filtre\r\n",
        "  #           a le dénominateur de la fonction de transfert du filtre \r\n",
        "  \r\n",
        "  ######################\r\n",
        "  ### Votre code ici ###\r\n",
        "  ######################\r\n",
        "\r\n",
        "\r\n",
        "  return b,a\r\n",
        "\r\n",
        "  \r\n",
        "  "
      ],
      "execution_count": null,
      "outputs": []
    },
    {
      "cell_type": "markdown",
      "metadata": {
        "id": "__wRrU9TPPtF"
      },
      "source": [
        "Cliquez [ici](https://github.com/decomiteA/LGBIO1114/blob/main/Solutions/Sol3) pour la solution"
      ]
    },
    {
      "cell_type": "markdown",
      "metadata": {
        "id": "_mf4VzjEyZ6X"
      },
      "source": [
        "**Exercice 3b** \r\n",
        "\r\n",
        "Explorez l'influence de différents paramètres de la fonction ci-dessus sur la réponse impulsionnelle de vos filtres. Comment interprétez vous cette réponse ?"
      ]
    },
    {
      "cell_type": "code",
      "metadata": {
        "id": "7AQ7pRSNVUto"
      },
      "source": [
        "# @title Etude des paramètres du filtre \n",
        "# @markdown Executez cette fenêtre pour lancer le widget\n",
        "# NE PAS EDITER CETTE CELLULE\n",
        "my_layout.width = '450px'\n",
        "@widgets.interact(\n",
        "    cutoff=widgets.FloatSlider(0.25, min=0.05, max=0.45, step=0.05, layout=my_layout),\n",
        "    order=widgets.IntSlider(1,min=1,max=10,step=1, layout=my_layout),\n",
        "    typefilter=widgets.Dropdown(options=[('Passe-bas', 1), ('Passe-haut', 2), ('Passe-bande', 3)],value=1,description='Type de filtre :',)\n",
        ")\n",
        "def plotimpulserep(order=2,cutoff=0.5,typefilter='lowpass'):\n",
        "    if typefilter == 1:\n",
        "      typefilter ='lowpass'\n",
        "    elif typefilter == 2:\n",
        "      typefilter = 'highpass'\n",
        "    else:\n",
        "      typefilter = 'bandpass'\n",
        "      cutoff = [cutoff, cutoff*2]\n",
        "    b,a = CreateFilter(order,typefilter,cutoff)\n",
        "    w,h = signal.freqs(b,a)\n",
        "    \n",
        "    plt.semilogx(w,20*np.log10(abs(h)))\n",
        "    plt.xlabel('Frequence')\n",
        "    plt.ylabel('Amplitude [dB]')\n",
        "    plt.show()\n",
        "    return"
      ],
      "execution_count": null,
      "outputs": []
    },
    {
      "cell_type": "markdown",
      "metadata": {
        "id": "qyj5f3A6ivza"
      },
      "source": [
        "<img alt='Solution hint' align='left' width=413 height=300 src=https://raw.githubusercontent.com/decomiteA/LGBIO1114/master/figure3.png>"
      ]
    },
    {
      "cell_type": "markdown",
      "metadata": {
        "id": "F9-U5GvCVW-6"
      },
      "source": [
        "## Partie 3 : Application de filtres sur un signal\r\n",
        "\r\n",
        "Dans cette troisième partie, nous allons concilier signaux et filtres afin d'étudier l'impact des différents types de filtres sur un signal donné. Par facilité, nous allons travailler avec le signal dont nous avons calculé la transformée de Fourier en Partie 1.\r\n",
        "\r\n",
        "**Exercice 4**\r\n",
        "\r\n",
        "Appliquez les différents filtres définis à l'exercice 3 sur le signal d'entrée et étudiez leur impact dans les domaines temporels et fréquentiels. Qu'observez-vous ? \r\n",
        "\r\n",
        "*Indice* : Utilisez la fonction [*scipy.signal.filtfilt*](https://docs.scipy.org/doc/scipy/reference/generated/scipy.signal.filtfilt.html) pour appliquer le filtre "
      ]
    },
    {
      "cell_type": "code",
      "metadata": {
        "id": "qnbraWBrYDhZ"
      },
      "source": [
        "###################\r\n",
        "#  VOTRE CODE ICI #\r\n",
        "###################\r\n",
        "\r\n"
      ],
      "execution_count": null,
      "outputs": []
    },
    {
      "cell_type": "markdown",
      "metadata": {
        "id": "XcQC-sSOShuh"
      },
      "source": [
        "Cliquez [ici](https://github.com/decomiteA/LGBIO1114/blob/main/Solutions/Sol4) pour la solution"
      ]
    },
    {
      "cell_type": "markdown",
      "metadata": {
        "id": "3q0jjIbZYYfQ"
      },
      "source": [
        "**Exercice 5**\r\n",
        "\r\n",
        "Comment pourriez-vous étudier l'effet d'un filtre sur un signal donné et le comparer à sa réponse impulsionnelle théorique? Observez-vous des différences? Si oui justifiez."
      ]
    }
  ]
}