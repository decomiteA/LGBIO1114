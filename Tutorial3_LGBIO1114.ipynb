{
  "nbformat": 4,
  "nbformat_minor": 0,
  "metadata": {
    "colab": {
      "name": "Tutorial3_LGBIO1114.ipynb",
      "provenance": [],
      "collapsed_sections": [],
      "authorship_tag": "ABX9TyPjnE5WyCT9OQcy8dX+vc7x",
      "include_colab_link": true
    },
    "kernelspec": {
      "name": "python3",
      "display_name": "Python 3"
    }
  },
  "cells": [
    {
      "cell_type": "markdown",
      "metadata": {
        "id": "view-in-github",
        "colab_type": "text"
      },
      "source": [
        "<a href=\"https://colab.research.google.com/github/decomiteA/LGBIO1114/blob/main/Tutorial3_LGBIO1114.ipynb\" target=\"_parent\"><img src=\"https://colab.research.google.com/assets/colab-badge.svg\" alt=\"Open In Colab\"/></a>"
      ]
    },
    {
      "cell_type": "markdown",
      "metadata": {
        "id": "XvOblx_c0AhS"
      },
      "source": [
        "##LGBIO1114 - Organes artificiels et réhabilitation\r\n",
        "\r\n",
        "__Auteur :__ Antoine De Comite\r\n",
        "\r\n",
        "__Contenu :__ A l'issue de cette séance vous devriez être capables de : \r\n",
        "\r\n",
        "*   Décrire le fonctionnement d'un implant cochléaire\r\n",
        "*   Comprendre et savoir appliquer les stratégies SPEAK et ICE dans le cadre d'un implant cochléaire\r\n",
        "\r\n"
      ]
    },
    {
      "cell_type": "code",
      "metadata": {
        "cellView": "form",
        "id": "0mSryFtcrqrA"
      },
      "source": [
        "#@title Librairies utiles \r\n",
        "# Please execute this cell to launch the tutorial \r\n",
        "\r\n",
        "import numpy as np \r\n",
        "from scipy import signal\r\n",
        "import matplotlib.pyplot as plt"
      ],
      "execution_count": null,
      "outputs": []
    },
    {
      "cell_type": "code",
      "metadata": {
        "cellView": "form",
        "id": "jJsja8yj124H"
      },
      "source": [
        "#@title Création des signaux\r\n",
        "# Please execute this cell to launch the tutorial\r\n",
        "\r\n",
        "def createSignal():\r\n",
        "  #This function creates the signal for the second tutorial of LGBIO1114\r\n",
        "\r\n",
        "  np.random.seed(42)\r\n",
        "  amplitudes = np.random.uniform(low=0.5,high=4,size=(25,1))\r\n",
        "  frequencies = np.random.uniform(low=20,high=5000,size=(25,1))\r\n",
        "  phases = np.random.uniform(low=0,high=2*np.pi,size=(25,1))\r\n",
        "  time_vector = np.linspace(0,1,10000)\r\n",
        "  signal_vector = np.zeros_like(time_vector)\r\n",
        "  for ii in range(len(amplitudes)):\r\n",
        "    signal_vector = signal_vector + amplitudes[ii]*np.sin(2*np.pi*frequencies[ii]*time_vector*time_vector+phases[ii])\r\n",
        "  \r\n",
        "  S = np.vstack((time_vector,signal_vector))\r\n",
        "\r\n",
        "  return S\r\n"
      ],
      "execution_count": null,
      "outputs": []
    },
    {
      "cell_type": "markdown",
      "metadata": {
        "id": "QXEfR-Q55kEm"
      },
      "source": [
        "## Partie 0 - Introduction\r\n",
        "\r\n",
        "En appelant la fonction *CreateSignal* (vous pouvez utiliser *S = CreateSignql()*)vous aurez accès à un signal tel que le patient devrait l'entendre et qu'il faudra essayer de récupérer au mieux dans votre solution.\r\n",
        "\r\n",
        "\r\n",
        "On vous demande, d'implémenter les deux stratégies discutées dans l'introduction, à savoir les stratégies SPEAK et ACE, appliquées au signal fourni par la fonction *CreateSignal*.\r\n",
        "\r\n",
        "Comparez les performances et capacités de ces deux techniques, qu'en concluez-vous? "
      ]
    },
    {
      "cell_type": "code",
      "metadata": {
        "id": "ALYjRI5N7Hpr"
      },
      "source": [
        "######################\r\n",
        "### Votre code ici ###\r\n",
        "######################"
      ],
      "execution_count": null,
      "outputs": []
    }
  ]
}